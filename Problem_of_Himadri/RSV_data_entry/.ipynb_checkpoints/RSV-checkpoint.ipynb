{
 "cells": [
  {
   "cell_type": "code",
   "execution_count": 2,
   "id": "8e10ca13-13c1-4af9-a798-256cc42dda68",
   "metadata": {
    "tags": []
   },
   "outputs": [
    {
     "name": "stdout",
     "output_type": "stream",
     "text": [
      "Data from sheet: Pool\n",
      "  Tundra COI / RSV PCR LOG Batch-Pool-245-246_24-03-2024_BioRad_Sazal  \\\n",
      "0                                             PCR SL                    \n",
      "1                                                  1                    \n",
      "2                                                  2                    \n",
      "3                                                  3                    \n",
      "4                                                  4                    \n",
      "\n",
      "      Unnamed: 1 Unnamed: 2   Unnamed: 3 Unnamed: 4 Unnamed: 5 Unnamed: 6  \\\n",
      "0  Ext. Batch SL   Pool Set    Sample ID   Batch No        RSV       FluA   \n",
      "1              1          1  12403015541     245 Zm        NaN        NaN   \n",
      "2              2          1  12403015651     245 Zm        NaN       25.9   \n",
      "3              3          1  12403014652     245 Zm        NaN        NaN   \n",
      "4              4          1  12403013713     245 Zm        NaN        NaN   \n",
      "\n",
      "  Unnamed: 7 Unnamed: 8  \n",
      "0       FluB     Result  \n",
      "1        NaN   Negative  \n",
      "2        NaN   Positive  \n",
      "3        NaN   Negative  \n",
      "4        NaN   Negative   \n",
      "\n",
      "Data from sheet: Repeat \n",
      "  Tundra COI / RSV PCR LOG Batch-Pool-Repeat-245-246_24-03-2024_QS5_Sazal  \\\n",
      "0                                             PCR SL                        \n",
      "1                                                  1                        \n",
      "2                                                  2                        \n",
      "3                                                  3                        \n",
      "4                                                  4                        \n",
      "\n",
      "      Unnamed: 1 Unnamed: 2   Unnamed: 3 Unnamed: 4 Unnamed: 5 Unnamed: 6  \\\n",
      "0  Ext. Batch SL   Pool Set    Sample ID   Batch No        RSV       FluA   \n",
      "1              1          1  12403015541     245 Zm        NaN        NaN   \n",
      "2              2          1  12403015651     245 Zm        NaN       25.9   \n",
      "3              3          1  12403014652     245 Zm        NaN        NaN   \n",
      "4              4          1  12403013713     245 Zm        NaN        NaN   \n",
      "\n",
      "  Unnamed: 7 Unnamed: 8  \n",
      "0       FluB     Result  \n",
      "1        NaN   Negative  \n",
      "2        NaN   Positive  \n",
      "3        NaN   Negative  \n",
      "4        NaN   Negative   \n",
      "\n"
     ]
    }
   ],
   "source": [
    "# Dictionary to hold dataframes for each sheet\n",
    "sheets_data = {}\n",
    "\n",
    "for sheet_name in sheet_names:\n",
    "    # Read each sheet into a dataframe\n",
    "    df = pd.read_excel(xls, sheet_name=sheet_name)\n",
    "    sheets_data[sheet_name] = df  # Store the dataframe in a dictionary\n",
    "\n",
    "    # Optional: Display the first few rows of the dataframe\n",
    "    print(f\"Data from sheet: {sheet_name}\")\n",
    "    print(df.head(), \"\\n\")\n"
   ]
  },
  {
   "cell_type": "code",
   "execution_count": 3,
   "id": "e46a4360-dc19-48b6-b347-ae3971615890",
   "metadata": {
    "tags": []
   },
   "outputs": [
    {
     "name": "stdout",
     "output_type": "stream",
     "text": [
      "Saved Pool to sheet_exports/Pool.csv\n",
      "Saved Repeat  to sheet_exports/Repeat .csv\n"
     ]
    }
   ],
   "source": [
    "import os\n",
    "\n",
    "# Directory to save CSV files\n",
    "output_dir = 'sheet_exports/'\n",
    "os.makedirs(output_dir, exist_ok=True)\n",
    "\n",
    "for sheet_name, df in sheets_data.items():\n",
    "    # Create a file path\n",
    "    output_file = os.path.join(output_dir, f\"{sheet_name}.csv\")\n",
    "    # Save dataframe to CSV\n",
    "    df.to_csv(output_file, index=False)\n",
    "    print(f\"Saved {sheet_name} to {output_file}\")\n"
   ]
  },
  {
   "cell_type": "code",
   "execution_count": 21,
   "id": "5f743a5e-c2ec-47c9-8154-10393e5259ce",
   "metadata": {
    "tags": []
   },
   "outputs": [
    {
     "data": {
      "text/plain": [
       "'Pool.csv'"
      ]
     },
     "execution_count": 21,
     "metadata": {},
     "output_type": "execute_result"
    }
   ],
   "source": [
    "import pandas as pd\n",
    "\n",
    "# Load the CSV file\n",
    "df = pd.read_csv('./sheet_exports/Pool.csv', low_memory=False)\n",
    "\n",
    "# Drop the first two columns\n",
    "df.drop(df.columns[0], axis=1, inplace=True)  # Drop the first column\n",
    "df.drop(df.columns[0], axis=1, inplace=True)  # Drop the next column, which was originally the second\n",
    "\n",
    "# Save the modified DataFrame to a new CSV file\n",
    "new_file_path = 'Pool.csv'\n",
    "df.to_csv(new_file_path, index=False)\n",
    "\n",
    "new_file_path"
   ]
  },
  {
   "cell_type": "code",
   "execution_count": null,
   "id": "c8b9f971",
   "metadata": {},
   "outputs": [],
   "source": []
  },
  {
   "cell_type": "code",
   "execution_count": null,
   "id": "a1dd2041-a62d-45cc-bb4d-cd1f7f9631f6",
   "metadata": {},
   "outputs": [],
   "source": []
  }
 ],
 "metadata": {
  "kernelspec": {
   "display_name": "IPy-3.11",
   "language": "python",
   "name": "ipy"
  },
  "language_info": {
   "codemirror_mode": {
    "name": "ipython",
    "version": 3
   },
   "file_extension": ".py",
   "mimetype": "text/x-python",
   "name": "python",
   "nbconvert_exporter": "python",
   "pygments_lexer": "ipython3",
   "version": "3.11.3"
  }
 },
 "nbformat": 4,
 "nbformat_minor": 5
}
