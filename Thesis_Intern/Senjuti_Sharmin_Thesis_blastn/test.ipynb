{
 "cells": [
  {
   "cell_type": "code",
   "execution_count": 26,
   "id": "fbc8463d-206d-4481-a9fd-c7decb1df189",
   "metadata": {},
   "outputs": [],
   "source": [
    "file1=open(\"All_Contigs_Name_1\", \"r\")"
   ]
  },
  {
   "cell_type": "code",
   "execution_count": 27,
   "id": "3f5c71b8-5daf-4cd9-9c90-e638892f5489",
   "metadata": {},
   "outputs": [],
   "source": [
    "file2 = open(\"All_tviA_r\", \"r\")\n"
   ]
  },
  {
   "cell_type": "code",
   "execution_count": 28,
   "id": "f73bca15-8a8d-439c-8de5-a7e6615ea807",
   "metadata": {},
   "outputs": [],
   "source": [
    "file3 = open(\"All_tviB_r\", \"r\")"
   ]
  },
  {
   "cell_type": "code",
   "execution_count": 29,
   "id": "67a9a37f-9171-4a9d-982c-3be821a021dc",
   "metadata": {},
   "outputs": [],
   "source": [
    "file1_content = file1.read().splitlines()\n",
    "file2_content = file2.read().splitlines()\n",
    "file3_content = file3.read().splitlines()"
   ]
  },
  {
   "cell_type": "code",
   "execution_count": 31,
   "id": "b9573505-749e-47d7-94a9-f628012f5a39",
   "metadata": {},
   "outputs": [
    {
     "name": "stdout",
     "output_type": "stream",
     "text": [
      "WTCHG_311189_284186 WTCHG_343078_210114\n",
      "WTCHG_311189_284186 WTCHG_343078_210114\n"
     ]
    }
   ],
   "source": [
    "\n",
    "# Find entries in file1 that are not in file2\n",
    "output_content_file_1_file_2 = list(set(file1_content) - set(file2_content))\n",
    "output_content_file_1_file_3 = list(set(file1_content) - set(file2_content))\n",
    "print(*output_content_file_1_file_2)\n",
    "print(*output_content_file_1_file_3)"
   ]
  },
  {
   "cell_type": "code",
   "execution_count": null,
   "id": "2d06e64a-5a2c-46eb-b0a6-cab2826e2f01",
   "metadata": {},
   "outputs": [],
   "source": []
  }
 ],
 "metadata": {
  "kernelspec": {
   "display_name": "Python 3 (ipykernel)",
   "language": "python",
   "name": "python3"
  },
  "language_info": {
   "codemirror_mode": {
    "name": "ipython",
    "version": 3
   },
   "file_extension": ".py",
   "mimetype": "text/x-python",
   "name": "python",
   "nbconvert_exporter": "python",
   "pygments_lexer": "ipython3",
   "version": "3.8.15"
  }
 },
 "nbformat": 4,
 "nbformat_minor": 5
}
