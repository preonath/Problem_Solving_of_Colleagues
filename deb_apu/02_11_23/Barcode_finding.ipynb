{
 "cells": [
  {
   "cell_type": "code",
   "execution_count": 1,
   "id": "ce99b19b-4b16-4ce0-8656-4bed8edfcb99",
   "metadata": {
    "tags": []
   },
   "outputs": [
    {
     "data": {
      "text/plain": [
       "(  Sequence ID   Specimen ID  Barcodes\n",
       " 0    STY_0208  1.220401e+10       NaN\n",
       " 1    STY_0202  1.220402e+10       NaN\n",
       " 2    STY_0203  1.220402e+10       NaN\n",
       " 3    STY_0209  1.220304e+10       NaN\n",
       " 4         NaN           NaN       NaN,\n",
       "   Organism ID     Sequence ID Organism Barcode Layout Barcode plate\n",
       " 0  OM_1024670  SPN_0286_GPS_R      SPN            A01  IDT-15156265\n",
       " 1  1013680_OM  SPN_0223_GPS_R      SPN            B01  IDT-15156265\n",
       " 2  1015830_OM  SPN_0273_GPS_R      SPN            C01  IDT-15156265\n",
       " 3     1043602    SPN_0304_GPS      SPN            E01  IDT-15156265\n",
       " 4     1038012    SPN_0305_GPS      SPN            A02  IDT-15156265)"
      ]
     },
     "execution_count": 1,
     "metadata": {},
     "output_type": "execute_result"
    }
   ],
   "source": [
    "import pandas as pd\n",
    "\n",
    "# Load the CSV files into DataFrames\n",
    "typhi_df = pd.read_csv('./typhi.csv')\n",
    "sample_sheet_df = pd.read_csv('./Sample_Sheet_NextSeq_19.csv')\n",
    "\n",
    "# Show the first few rows of each DataFrame to understand their structure\n",
    "typhi_head = typhi_df.head()\n",
    "sample_sheet_head = sample_sheet_df.head()\n",
    "\n",
    "typhi_head, sample_sheet_head\n"
   ]
  },
  {
   "cell_type": "code",
   "execution_count": 2,
   "id": "53a953e0-9f1d-4990-91a9-2dafa125eb3e",
   "metadata": {
    "tags": []
   },
   "outputs": [
    {
     "data": {
      "text/html": [
       "<div>\n",
       "<style scoped>\n",
       "    .dataframe tbody tr th:only-of-type {\n",
       "        vertical-align: middle;\n",
       "    }\n",
       "\n",
       "    .dataframe tbody tr th {\n",
       "        vertical-align: top;\n",
       "    }\n",
       "\n",
       "    .dataframe thead th {\n",
       "        text-align: right;\n",
       "    }\n",
       "</style>\n",
       "<table border=\"1\" class=\"dataframe\">\n",
       "  <thead>\n",
       "    <tr style=\"text-align: right;\">\n",
       "      <th></th>\n",
       "      <th>Sequence ID</th>\n",
       "      <th>Specimen ID</th>\n",
       "      <th>Barcodes</th>\n",
       "      <th>Barcode Layout</th>\n",
       "      <th>Barcode plate</th>\n",
       "    </tr>\n",
       "  </thead>\n",
       "  <tbody>\n",
       "    <tr>\n",
       "      <th>0</th>\n",
       "      <td>STY_0208</td>\n",
       "      <td>1.220401e+10</td>\n",
       "      <td>NaN</td>\n",
       "      <td>H11</td>\n",
       "      <td>IDT-1446944+945</td>\n",
       "    </tr>\n",
       "    <tr>\n",
       "      <th>1</th>\n",
       "      <td>STY_0202</td>\n",
       "      <td>1.220402e+10</td>\n",
       "      <td>NaN</td>\n",
       "      <td>B11</td>\n",
       "      <td>IDT-1446944+945</td>\n",
       "    </tr>\n",
       "    <tr>\n",
       "      <th>2</th>\n",
       "      <td>STY_0203</td>\n",
       "      <td>1.220402e+10</td>\n",
       "      <td>NaN</td>\n",
       "      <td>C11</td>\n",
       "      <td>IDT-1446944+945</td>\n",
       "    </tr>\n",
       "    <tr>\n",
       "      <th>3</th>\n",
       "      <td>STY_0209</td>\n",
       "      <td>1.220304e+10</td>\n",
       "      <td>NaN</td>\n",
       "      <td>A09</td>\n",
       "      <td>IDT-15156265</td>\n",
       "    </tr>\n",
       "    <tr>\n",
       "      <th>4</th>\n",
       "      <td>NaN</td>\n",
       "      <td>NaN</td>\n",
       "      <td>NaN</td>\n",
       "      <td>NaN</td>\n",
       "      <td>NaN</td>\n",
       "    </tr>\n",
       "  </tbody>\n",
       "</table>\n",
       "</div>"
      ],
      "text/plain": [
       "  Sequence ID   Specimen ID  Barcodes Barcode Layout    Barcode plate\n",
       "0    STY_0208  1.220401e+10       NaN            H11  IDT-1446944+945\n",
       "1    STY_0202  1.220402e+10       NaN            B11  IDT-1446944+945\n",
       "2    STY_0203  1.220402e+10       NaN            C11  IDT-1446944+945\n",
       "3    STY_0209  1.220304e+10       NaN            A09     IDT-15156265\n",
       "4         NaN           NaN       NaN            NaN              NaN"
      ]
     },
     "execution_count": 2,
     "metadata": {},
     "output_type": "execute_result"
    }
   ],
   "source": [
    "# Merge the DataFrames based on the \"Sequence ID\" column\n",
    "merged_df = typhi_df.merge(sample_sheet_df[['Sequence ID', 'Barcode Layout', 'Barcode plate']], on='Sequence ID', how='left')\n",
    "\n",
    "# Display the first few rows of the merged DataFrame to verify the results\n",
    "merged_df.head()"
   ]
  },
  {
   "cell_type": "code",
   "execution_count": 3,
   "id": "d47f9bb3-87f6-42e2-a07c-c56ac50cecfd",
   "metadata": {},
   "outputs": [],
   "source": [
    "# Save the updated DataFrame back to the \"typhi.csv\" file\n",
    "updated_file_path = './typhi_updated.csv'\n",
    "merged_df.to_csv(updated_file_path, index=False)\n"
   ]
  }
 ],
 "metadata": {
  "kernelspec": {
   "display_name": "Python 3 (ipykernel)",
   "language": "python",
   "name": "python3"
  },
  "language_info": {
   "codemirror_mode": {
    "name": "ipython",
    "version": 3
   },
   "file_extension": ".py",
   "mimetype": "text/x-python",
   "name": "python",
   "nbconvert_exporter": "python",
   "pygments_lexer": "ipython3",
   "version": "3.8.16"
  }
 },
 "nbformat": 4,
 "nbformat_minor": 5
}
